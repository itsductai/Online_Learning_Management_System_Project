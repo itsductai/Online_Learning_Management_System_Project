{
 "cells": [
  {
   "cell_type": "code",
   "execution_count": 9,
   "id": "75f55e89",
   "metadata": {},
   "outputs": [
    {
     "name": "stderr",
     "output_type": "stream",
     "text": [
      "model.safetensors:   0%|          | 0.00/242M [00:00<?, ?B/s]\n",
      "spiece.model: 100%|██████████| 792k/792k [00:01<00:00, 455kB/s] 2MB/s]\n",
      "model.safetensors: 100%|██████████| 242M/242M [00:57<00:00, 4.20MB/s] \n",
      "\n",
      "Upload 2 LFS files: 100%|██████████| 2/2 [00:58<00:00, 29.15s/it]\n"
     ]
    },
    {
     "data": {
      "text/plain": [
       "CommitInfo(commit_url='https://huggingface.co/itsductai02/text-to-sql-v1/commit/924a57f3abb56d63ffccc9ac5d138cbcdca48c73', commit_message='Upload folder using huggingface_hub', commit_description='', oid='924a57f3abb56d63ffccc9ac5d138cbcdca48c73', pr_url=None, repo_url=RepoUrl('https://huggingface.co/itsductai02/text-to-sql-v1', endpoint='https://huggingface.co', repo_type='model', repo_id='itsductai02/text-to-sql-v1'), pr_revision=None, pr_num=None)"
      ]
     },
     "execution_count": 9,
     "metadata": {},
     "output_type": "execute_result"
    }
   ],
   "source": [
    "from huggingface_hub import HfApi\n",
    "\n",
    "api = HfApi(token=os.getenv(\"HF_TOKEN\"))\n",
    "api.upload_folder(\n",
    "    folder_path=\"./sql_t5_finetuned\",\n",
    "    repo_id=\"itsductai02/text-to-sql-v1\",\n",
    "    repo_type=\"model\",\n",
    ")\n",
    "\n"
   ]
  }
 ],
 "metadata": {
  "kernelspec": {
   "display_name": "Python 3",
   "language": "python",
   "name": "python3"
  },
  "language_info": {
   "codemirror_mode": {
    "name": "ipython",
    "version": 3
   },
   "file_extension": ".py",
   "mimetype": "text/x-python",
   "name": "python",
   "nbconvert_exporter": "python",
   "pygments_lexer": "ipython3",
   "version": "3.12.5"
  }
 },
 "nbformat": 4,
 "nbformat_minor": 5
}
